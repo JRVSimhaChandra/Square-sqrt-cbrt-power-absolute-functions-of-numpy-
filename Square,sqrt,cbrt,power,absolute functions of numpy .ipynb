{
 "cells": [
  {
   "cell_type": "markdown",
   "id": "bf3e5a1a-7996-416f-98d9-f5e324c12f0c",
   "metadata": {},
   "source": [
    "# Square\n",
    "\n",
    "This mathematical function helps user to calculate square value of each element in the array"
   ]
  },
  {
   "cell_type": "code",
   "execution_count": 1,
   "id": "28819ae7-a87b-4c92-b250-50d567e607b3",
   "metadata": {},
   "outputs": [
    {
     "name": "stdout",
     "output_type": "stream",
     "text": [
      "Square Value of arr1 : \n",
      " [     1      9    225 217156]\n",
      "\n",
      "Square Value of arr2 :  [ 529 3136]\n"
     ]
    }
   ],
   "source": [
    "# square () function\n",
    "\n",
    "import numpy as np\n",
    "\n",
    "arr1 = [1, -3, 15, -466]\n",
    "print (\"Square Value of arr1 : \\n\", np.square(arr1))\n",
    "\n",
    "arr2 = [23,-56]\n",
    "print (\"\\nSquare Value of arr2 : \", np.square(arr2))"
   ]
  },
  {
   "cell_type": "markdown",
   "id": "68d9922d-acd2-4a5f-94e9-6967f407cbae",
   "metadata": {},
   "source": [
    "# sqrt()\n",
    "\n",
    "Return the non-negative squqre root of an array,element-wise."
   ]
  },
  {
   "cell_type": "code",
   "execution_count": 2,
   "id": "8a92536c-95c6-404b-898b-b35cfd895b31",
   "metadata": {},
   "outputs": [
    {
     "name": "stdout",
     "output_type": "stream",
     "text": [
      "Square Value of arr1 : \n",
      " [     1      9    225 217156]\n"
     ]
    }
   ],
   "source": [
    "# sqrt () function\n",
    "\n",
    "import numpy as np\n",
    "arr1 = [1, -3, 15, -466]\n",
    "print (\"Square Value of arr1 : \\n\", np.square(arr1))"
   ]
  },
  {
   "cell_type": "markdown",
   "id": "e23bfd4a-ed10-41a0-8960-b0ee99c725e0",
   "metadata": {},
   "source": [
    "# cbrt\n",
    "\n",
    "This mathematical function helps user to calculate Cube root of x for all x being the array elements."
   ]
  },
  {
   "cell_type": "code",
   "execution_count": 4,
   "id": "560a5eb3-8a84-479b-bcf7-ee1a11bfb480",
   "metadata": {},
   "outputs": [
    {
     "name": "stdout",
     "output_type": "stream",
     "text": [
      "cbrt Value of arr1 : \n",
      " [  1.  30.   4. -10.]\n",
      "\n",
      "cbrt Value of arr2 :  [10.0793684 -5.0396842]\n"
     ]
    }
   ],
   "source": [
    "# cbrt () function\n",
    "\n",
    "import numpy as np\n",
    "\n",
    "arr1 = [1, 27000, 64, -1000]\n",
    "print (\"cbrt Value of arr1 : \\n\", np.cbrt(arr1))\n",
    "\n",
    "arr2 = [1024 ,-128]\n",
    "print (\"\\ncbrt Value of arr2 : \", np.cbrt(arr2))\n"
   ]
  },
  {
   "cell_type": "markdown",
   "id": "1e6978dd-be5b-47fe-a75f-09de34801341",
   "metadata": {},
   "source": [
    "# Power()\n",
    "\n",
    "Array element from first array is raised to the power of element from second element.\n",
    "\n",
    "Both arr1 and arr2 must have same shape and each element in arr1 must be raised to corresponding +ve value from arr2. otherwise it will raise a ValueeError."
   ]
  },
  {
   "cell_type": "code",
   "execution_count": 5,
   "id": "996707d2-ad6a-44e6-b453-e26cbae82e5a",
   "metadata": {},
   "outputs": [
    {
     "name": "stdout",
     "output_type": "stream",
     "text": [
      "arr1 :  [2, 2, 2, 2, 2]\n",
      "arr1 :  [2, 3, 4, 5, 6]\n",
      "\n",
      "Output array :  [ 4  8 16 32 64]\n"
     ]
    }
   ],
   "source": [
    "# power() function\n",
    "import numpy as np\n",
    "\n",
    "#input_array\n",
    "arr1 = [2, 2, 2, 2, 2]\n",
    "arr2 = [2, 3, 4, 5, 6]\n",
    "print (\"arr1 : \", arr1)\n",
    "print (\"arr1 : \", arr2)\n",
    "\n",
    "# output_array\n",
    "out = np.power(arr1, arr2)\n",
    "print (\"\\nOutput array : \", out)"
   ]
  },
  {
   "cell_type": "markdown",
   "id": "45a59e13-f813-4f27-be9f-910b6fdbdf11",
   "metadata": {},
   "source": [
    "# absolute\n",
    "\n",
    "This mathematical function helps user to calculate absolute of each element in the array.\n",
    "\n",
    "For complex input, a + lb, the absolute value is \\sqrt{a^2 + b^2}"
   ]
  },
  {
   "cell_type": "code",
   "execution_count": 6,
   "id": "203546e8-e958-421a-8e85-54ae8175db97",
   "metadata": {},
   "outputs": [
    {
     "name": "stdout",
     "output_type": "stream",
     "text": [
      "Absolute value of arr1 : \n",
      " [  1   3  15 466]\n",
      "Absolute value of arr2 : \n",
      " [23 56]\n"
     ]
    }
   ],
   "source": [
    "# absolute () function\n",
    "\n",
    "import numpy as np\n",
    "\n",
    "arr1 = [1, -3, 15, -466]\n",
    "print (\"Absolute value of arr1 : \\n\",\n",
    "       np.absolute(arr1))\n",
    "\n",
    "arr2 = [23 , -56]\n",
    "print (\"Absolute value of arr2 : \\n\",\n",
    "       np.absolute(arr2))"
   ]
  },
  {
   "cell_type": "code",
   "execution_count": 7,
   "id": "389e12bf-6d47-434a-9911-cb19b17d48ea",
   "metadata": {},
   "outputs": [
    {
     "name": "stdout",
     "output_type": "stream",
     "text": [
      "Absolute(4 + 3j) :  5.0\n",
      "Absolute value(16 + 13j) :  20.615528128088304\n"
     ]
    }
   ],
   "source": [
    "# absolute () function on complex numbers\n",
    "\n",
    "import numpy as np\n",
    "\n",
    "a =  4 + 3j\n",
    "print(\"Absolute(4 + 3j) : \",\n",
    "      np.absolute(a))\n",
    "\n",
    "b = 16 + 13j\n",
    "print(\"Absolute value(16 + 13j) : \",\n",
    "      np.absolute(b))\n"
   ]
  },
  {
   "cell_type": "code",
   "execution_count": null,
   "id": "37657ef9-bf13-428b-86a2-6ac8640d718b",
   "metadata": {},
   "outputs": [],
   "source": []
  }
 ],
 "metadata": {
  "kernelspec": {
   "display_name": "Python 3 (ipykernel)",
   "language": "python",
   "name": "python3"
  },
  "language_info": {
   "codemirror_mode": {
    "name": "ipython",
    "version": 3
   },
   "file_extension": ".py",
   "mimetype": "text/x-python",
   "name": "python",
   "nbconvert_exporter": "python",
   "pygments_lexer": "ipython3",
   "version": "3.12.4"
  }
 },
 "nbformat": 4,
 "nbformat_minor": 5
}
